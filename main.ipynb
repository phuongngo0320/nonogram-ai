{
 "cells": [
  {
   "cell_type": "code",
   "execution_count": 2,
   "metadata": {},
   "outputs": [
    {
     "name": "stdout",
     "output_type": "stream",
     "text": [
      "Input:\n",
      ".  #  .  .  #  #  .    1 2 \n",
      ".  #  #  #  #  .  .    4 \n",
      ".  #  .  #  #  .  #    1 2 1 \n",
      "#  .  #  .  #  #  .    1 1 2 \n",
      ".  .  .  .  #  #  #    3 \n",
      "#  .  #  .  #  .  .    1 1 1 \n",
      ".  .  #  .  #  .  #    1 1 1 \n",
      "\n",
      "1  3  1  2  7  1  1  \n",
      "1     1        2  1  \n",
      "      2           1  \n",
      "\n"
     ]
    },
    {
     "ename": "AttributeError",
     "evalue": "'NoneType' object has no attribute 'path'",
     "output_type": "error",
     "traceback": [
      "\u001b[1;31m---------------------------------------------------------------------------\u001b[0m",
      "\u001b[1;31mAttributeError\u001b[0m                            Traceback (most recent call last)",
      "Cell \u001b[1;32mIn[2], line 40\u001b[0m\n\u001b[0;32m     38\u001b[0m puzzle \u001b[38;5;241m=\u001b[39m Nonogram(init)\n\u001b[0;32m     39\u001b[0m \u001b[38;5;66;03m# print(DFS(puzzle).path())\u001b[39;00m\n\u001b[1;32m---> 40\u001b[0m \u001b[38;5;28mprint\u001b[39m(\u001b[43mBeFS\u001b[49m\u001b[43m(\u001b[49m\u001b[43mpuzzle\u001b[49m\u001b[43m,\u001b[49m\u001b[43mheuristic_level\u001b[49m\u001b[43m)\u001b[49m\u001b[38;5;241;43m.\u001b[39;49m\u001b[43mpath\u001b[49m())\n",
      "\u001b[1;31mAttributeError\u001b[0m: 'NoneType' object has no attribute 'path'"
     ]
    }
   ],
   "source": [
    "from src.gen import Gen\n",
    "from src.puzzle import Nonogram\n",
    "from src.state import State\n",
    "\n",
    "\n",
    "# grid = [\n",
    "#     [1, 1, 1, 0, 1],\n",
    "#     [1, 1, 1, 0, 1],\n",
    "#     [0, 0, 1, 1, 1],\n",
    "#     [0, 0, 0, 1, 0],\n",
    "#     [0, 0, 0, 1, 0]\n",
    "# ]\n",
    "# grid = [\n",
    "#     [1, 1, 0, 1],\n",
    "#     [0, 1, 0, 0],\n",
    "#     [0, 1, 1, 0],\n",
    "#     [1, 0, 0, 1]\n",
    "# ]\n",
    "# grid = [\n",
    "#     [1, 0, 1],\n",
    "#     [0, 0, 1],\n",
    "#     [0, 1, 1]\n",
    "# ]\n",
    "# grid = [\n",
    "#     [1, 0],\n",
    "#     [0, 1]\n",
    "# ]\n",
    "# init = State(\n",
    "#     len(grid), \n",
    "#     num=Gen.gen_grid_num(grid)\n",
    "# )\n",
    "init = State(size=7)\n",
    "\n",
    "from src.search import DFS\n",
    "from src.utils import heuristic_level\n",
    "from src.search import BeFS\n",
    "\n",
    "puzzle = Nonogram(init)\n",
    "# print(DFS(puzzle).path())\n",
    "print(BeFS(puzzle,heuristic_level).path())\n"
   ]
  }
 ],
 "metadata": {
  "kernelspec": {
   "display_name": "Python 3",
   "language": "python",
   "name": "python3"
  },
  "language_info": {
   "codemirror_mode": {
    "name": "ipython",
    "version": 3
   },
   "file_extension": ".py",
   "mimetype": "text/x-python",
   "name": "python",
   "nbconvert_exporter": "python",
   "pygments_lexer": "ipython3",
   "version": "3.11.1"
  }
 },
 "nbformat": 4,
 "nbformat_minor": 2
}
