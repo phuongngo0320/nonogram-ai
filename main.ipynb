{
 "cells": [
  {
   "cell_type": "code",
   "execution_count": 1,
   "metadata": {},
   "outputs": [
    {
     "name": "stdout",
     "output_type": "stream",
     "text": [
      "Input:\n",
      "#  .  #  #  .  #  #  #    1 2 3 \n",
      ".  .  #  .  .  .  #  .    1 1 \n",
      "#  #  .  #  #  .  #  #    2 2 2 \n",
      ".  .  #  .  .  .  #  #    1 2 \n",
      "#  #  #  #  #  .  #  #    5 2 \n",
      "#  .  .  .  #  .  .  #    1 1 1 \n",
      ".  .  .  #  #  .  .  .    2 \n",
      "#  .  .  .  #  .  .  #    1 1 1 \n",
      "\n",
      "1  1  2  1  1  1  5  1  \n",
      "1  1  2  1  4        4  \n",
      "2        1           1  \n",
      "1        1              \n",
      "\n"
     ]
    },
    {
     "ename": "KeyboardInterrupt",
     "evalue": "",
     "output_type": "error",
     "traceback": [
      "\u001b[1;31m---------------------------------------------------------------------------\u001b[0m",
      "\u001b[1;31mKeyboardInterrupt\u001b[0m                         Traceback (most recent call last)",
      "Cell \u001b[1;32mIn[1], line 36\u001b[0m\n\u001b[0;32m     33\u001b[0m \u001b[38;5;28;01mfrom\u001b[39;00m \u001b[38;5;21;01msrc\u001b[39;00m\u001b[38;5;21;01m.\u001b[39;00m\u001b[38;5;21;01msearch\u001b[39;00m \u001b[38;5;28;01mimport\u001b[39;00m DFS\n\u001b[0;32m     35\u001b[0m puzzle \u001b[38;5;241m=\u001b[39m Nonogram(init)\n\u001b[1;32m---> 36\u001b[0m \u001b[38;5;28mprint\u001b[39m(\u001b[43mDFS\u001b[49m\u001b[43m(\u001b[49m\u001b[43mpuzzle\u001b[49m\u001b[43m)\u001b[49m\u001b[38;5;241m.\u001b[39mpath())\n",
      "File \u001b[1;32md:\\Code\\Python\\ai\\nonogram-ai\\src\\search.py:28\u001b[0m, in \u001b[0;36mDFS\u001b[1;34m(problem)\u001b[0m\n\u001b[0;32m     25\u001b[0m \u001b[38;5;28;01mif\u001b[39;00m problem\u001b[38;5;241m.\u001b[39mgoal_test(node\u001b[38;5;241m.\u001b[39mstate):\n\u001b[0;32m     26\u001b[0m     \u001b[38;5;28;01mreturn\u001b[39;00m node\n\u001b[1;32m---> 28\u001b[0m \u001b[38;5;28;01mfor\u001b[39;00m child \u001b[38;5;129;01min\u001b[39;00m \u001b[43mnode\u001b[49m\u001b[38;5;241;43m.\u001b[39;49m\u001b[43mexpand\u001b[49m\u001b[43m(\u001b[49m\u001b[43mproblem\u001b[49m\u001b[43m)\u001b[49m:\n\u001b[0;32m     29\u001b[0m     \n\u001b[0;32m     30\u001b[0m     \u001b[38;5;66;03m# dump(child.state, \"Consider...\")\u001b[39;00m\n\u001b[0;32m     31\u001b[0m     \u001b[38;5;28;01mif\u001b[39;00m child\u001b[38;5;241m.\u001b[39mstate \u001b[38;5;129;01mnot\u001b[39;00m \u001b[38;5;129;01min\u001b[39;00m reached:\n\u001b[0;32m     32\u001b[0m         reached[child\u001b[38;5;241m.\u001b[39mstate] \u001b[38;5;241m=\u001b[39m child\n",
      "File \u001b[1;32md:\\Code\\Python\\ai\\nonogram-ai\\src\\node.py:34\u001b[0m, in \u001b[0;36mNode.expand\u001b[1;34m(self, problem)\u001b[0m\n\u001b[0;32m     32\u001b[0m \u001b[38;5;28;01mdef\u001b[39;00m \u001b[38;5;21mexpand\u001b[39m(\u001b[38;5;28mself\u001b[39m, problem):\n\u001b[0;32m     33\u001b[0m \u001b[38;5;250m    \u001b[39m\u001b[38;5;124;03m\"\"\"List the nodes reachable in one step from this node.\"\"\"\u001b[39;00m\n\u001b[1;32m---> 34\u001b[0m     \u001b[38;5;28;01mreturn\u001b[39;00m \u001b[43m[\u001b[49m\u001b[38;5;28;43mself\u001b[39;49m\u001b[38;5;241;43m.\u001b[39;49m\u001b[43mchild_node\u001b[49m\u001b[43m(\u001b[49m\u001b[43mproblem\u001b[49m\u001b[43m,\u001b[49m\u001b[43m \u001b[49m\u001b[43maction\u001b[49m\u001b[43m)\u001b[49m\n\u001b[0;32m     35\u001b[0m \u001b[43m            \u001b[49m\u001b[38;5;28;43;01mfor\u001b[39;49;00m\u001b[43m \u001b[49m\u001b[43maction\u001b[49m\u001b[43m \u001b[49m\u001b[38;5;129;43;01min\u001b[39;49;00m\u001b[43m \u001b[49m\u001b[43mproblem\u001b[49m\u001b[38;5;241;43m.\u001b[39;49m\u001b[43mactions\u001b[49m\u001b[43m(\u001b[49m\u001b[38;5;28;43mself\u001b[39;49m\u001b[38;5;241;43m.\u001b[39;49m\u001b[43mstate\u001b[49m\u001b[43m)\u001b[49m\u001b[43m]\u001b[49m\n",
      "File \u001b[1;32md:\\Code\\Python\\ai\\nonogram-ai\\src\\node.py:34\u001b[0m, in \u001b[0;36m<listcomp>\u001b[1;34m(.0)\u001b[0m\n\u001b[0;32m     32\u001b[0m \u001b[38;5;28;01mdef\u001b[39;00m \u001b[38;5;21mexpand\u001b[39m(\u001b[38;5;28mself\u001b[39m, problem):\n\u001b[0;32m     33\u001b[0m \u001b[38;5;250m    \u001b[39m\u001b[38;5;124;03m\"\"\"List the nodes reachable in one step from this node.\"\"\"\u001b[39;00m\n\u001b[1;32m---> 34\u001b[0m     \u001b[38;5;28;01mreturn\u001b[39;00m [\u001b[38;5;28;43mself\u001b[39;49m\u001b[38;5;241;43m.\u001b[39;49m\u001b[43mchild_node\u001b[49m\u001b[43m(\u001b[49m\u001b[43mproblem\u001b[49m\u001b[43m,\u001b[49m\u001b[43m \u001b[49m\u001b[43maction\u001b[49m\u001b[43m)\u001b[49m\n\u001b[0;32m     35\u001b[0m             \u001b[38;5;28;01mfor\u001b[39;00m action \u001b[38;5;129;01min\u001b[39;00m problem\u001b[38;5;241m.\u001b[39mactions(\u001b[38;5;28mself\u001b[39m\u001b[38;5;241m.\u001b[39mstate)]\n",
      "File \u001b[1;32md:\\Code\\Python\\ai\\nonogram-ai\\src\\node.py:37\u001b[0m, in \u001b[0;36mNode.child_node\u001b[1;34m(self, problem, action)\u001b[0m\n\u001b[0;32m     33\u001b[0m \u001b[38;5;250m    \u001b[39m\u001b[38;5;124;03m\"\"\"List the nodes reachable in one step from this node.\"\"\"\u001b[39;00m\n\u001b[0;32m     34\u001b[0m     \u001b[38;5;28;01mreturn\u001b[39;00m [\u001b[38;5;28mself\u001b[39m\u001b[38;5;241m.\u001b[39mchild_node(problem, action)\n\u001b[0;32m     35\u001b[0m             \u001b[38;5;28;01mfor\u001b[39;00m action \u001b[38;5;129;01min\u001b[39;00m problem\u001b[38;5;241m.\u001b[39mactions(\u001b[38;5;28mself\u001b[39m\u001b[38;5;241m.\u001b[39mstate)]\n\u001b[1;32m---> 37\u001b[0m \u001b[38;5;28;01mdef\u001b[39;00m \u001b[38;5;21mchild_node\u001b[39m(\u001b[38;5;28mself\u001b[39m, problem, action):\n\u001b[0;32m     38\u001b[0m \u001b[38;5;250m    \u001b[39m\u001b[38;5;124;03m\"\"\"[Figure 3.10]\"\"\"\u001b[39;00m\n\u001b[0;32m     39\u001b[0m     next_state \u001b[38;5;241m=\u001b[39m problem\u001b[38;5;241m.\u001b[39mresult(\u001b[38;5;28mself\u001b[39m\u001b[38;5;241m.\u001b[39mstate, action)\n",
      "\u001b[1;31mKeyboardInterrupt\u001b[0m: "
     ]
    }
   ],
   "source": [
    "from src.gen import Gen\n",
    "from src.puzzle import Nonogram\n",
    "from src.state import State\n",
    "\n",
    "# grid = [\n",
    "#     [1, 1, 1, 0, 1],\n",
    "#     [1, 1, 1, 0, 1],\n",
    "#     [0, 0, 1, 1, 1],\n",
    "#     [0, 0, 0, 1, 0],\n",
    "#     [0, 0, 0, 1, 0]\n",
    "# ]\n",
    "# grid = [\n",
    "#     [1, 1, 0, 1],\n",
    "#     [0, 1, 0, 0],\n",
    "#     [0, 1, 1, 0],\n",
    "#     [1, 0, 0, 1]\n",
    "# ]\n",
    "# grid = [\n",
    "#     [1, 0, 1],\n",
    "#     [0, 0, 1],\n",
    "#     [0, 1, 1]\n",
    "# ]\n",
    "# grid = [\n",
    "#     [1, 0],\n",
    "#     [0, 1]\n",
    "# ]\n",
    "# init = State(\n",
    "#     len(grid), \n",
    "#     num=Gen.gen_grid_num(grid)\n",
    "# )\n",
    "init = State(size=7)\n",
    "\n",
    "from src.search import DFS\n",
    "\n",
    "puzzle = Nonogram(init)\n",
    "print(DFS(puzzle).path())\n"
   ]
  }
 ],
 "metadata": {
  "kernelspec": {
   "display_name": "Python 3",
   "language": "python",
   "name": "python3"
  },
  "language_info": {
   "codemirror_mode": {
    "name": "ipython",
    "version": 3
   },
   "file_extension": ".py",
   "mimetype": "text/x-python",
   "name": "python",
   "nbconvert_exporter": "python",
   "pygments_lexer": "ipython3",
   "version": "3.11.4"
  }
 },
 "nbformat": 4,
 "nbformat_minor": 2
}
