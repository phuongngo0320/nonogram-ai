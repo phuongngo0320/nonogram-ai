{
 "cells": [
  {
   "cell_type": "code",
   "execution_count": 1,
   "metadata": {},
   "outputs": [
    {
     "name": "stdout",
     "output_type": "stream",
     "text": [
      "Input:\n",
      ".  .  .  .  #    1 \n",
      "#  .  #  .  .    1 1 \n",
      "#  #  #  #  .    4 \n",
      ".  #  #  #  .    3 \n",
      ".  .  .  #  #    2 \n",
      "\n",
      "2  2  3  3  1  \n",
      "            1  \n",
      "\n"
     ]
    }
   ],
   "source": [
    "from src.gen import Gen\n",
    "from src.puzzle import Nonogram\n",
    "from src.state import State\n",
    "\n",
    "init = State()"
   ]
  },
  {
   "cell_type": "code",
   "execution_count": 7,
   "metadata": {},
   "outputs": [
    {
     "name": "stdout",
     "output_type": "stream",
     "text": [
      "<State>\n",
      ".  .  .  .  .    0 \n",
      ".  .  .  .  .    0 \n",
      ".  .  .  .  .    0 \n",
      ".  .  .  .  .    0 \n",
      ".  .  #  .  .    1 \n",
      "\n",
      "0  0  1  0  0  \n",
      "\n",
      "\n"
     ]
    }
   ],
   "source": [
    "from src.search import DFS\n",
    "\n",
    "puzzle = Nonogram(init)\n",
    "print(puzzle.result(init, (4, 2)))\n"
   ]
  }
 ],
 "metadata": {
  "kernelspec": {
   "display_name": "Python 3",
   "language": "python",
   "name": "python3"
  },
  "language_info": {
   "codemirror_mode": {
    "name": "ipython",
    "version": 3
   },
   "file_extension": ".py",
   "mimetype": "text/x-python",
   "name": "python",
   "nbconvert_exporter": "python",
   "pygments_lexer": "ipython3",
   "version": "3.11.4"
  }
 },
 "nbformat": 4,
 "nbformat_minor": 2
}
